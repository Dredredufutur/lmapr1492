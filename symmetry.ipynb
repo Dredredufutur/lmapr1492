{
 "cells": [
  {
   "cell_type": "markdown",
   "id": "3834faf2",
   "metadata": {},
   "source": [
    "# Tâche 6"
   ]
  },
  {
   "cell_type": "markdown",
   "id": "18d621fc",
   "metadata": {},
   "source": [
    "### chargement du matériau"
   ]
  },
  {
   "cell_type": "code",
   "execution_count": 74,
   "id": "7c3ba392",
   "metadata": {},
   "outputs": [],
   "source": [
    "from jupyter_jsmol import JsmolView\n",
    "from ipywidgets import Layout, widgets, interact\n",
    "from pymatgen.ext.matproj import MPRester\n",
    "from jupyter_jsmol.pymatgen import quick_view\n",
    "from pymatgen.symmetry.analyzer import SpacegroupAnalyzer\n",
    "\n",
    "with MPRester(\"aCXeRIqRipXfPPtsLI7\") as m:\n",
    "\n",
    "    # Structure for material id\n",
    "    structure = m.get_structure_by_material_id(\"mp-961675\")\n"
   ]
  },
  {
   "cell_type": "markdown",
   "id": "a2ea20cc",
   "metadata": {},
   "source": [
    "### Visualisation du materiau"
   ]
  },
  {
   "cell_type": "code",
   "execution_count": 75,
   "id": "b79fdd19",
   "metadata": {},
   "outputs": [
    {
     "data": {
      "application/vnd.jupyter.widget-view+json": {
       "model_id": "3c4081ab248445a5835db99eba473509",
       "version_major": 2,
       "version_minor": 0
      },
      "text/plain": [
       "JsmolView(layout=Layout(align_self='stretch', height='400px'))"
      ]
     },
     "metadata": {},
     "output_type": "display_data"
    }
   ],
   "source": [
    "view = quick_view(structure)\n",
    "display(view)"
   ]
  },
  {
   "cell_type": "markdown",
   "id": "54bc2b34",
   "metadata": {},
   "source": [
    "### Choix des atomes et des symétries"
   ]
  },
  {
   "cell_type": "code",
   "execution_count": 76,
   "id": "2cefa4f5",
   "metadata": {},
   "outputs": [],
   "source": [
    "sym = SpacegroupAnalyzer(structure).get_symmetry_operations()\n",
    "\n",
    "# choix des symétries\n",
    "\n",
    "S1 = sym[7]\n",
    "S2 = sym[3]\n",
    "S3 = sym[6]\n",
    "\n",
    "sym = [S1,S2,S3]\n",
    "\n",
    "# Atomes choisis\n",
    "P = [0.0, 0.0, 0.0]\n",
    "Sc = [0.5, 0.5, 0.5]\n",
    "Ni = [0.25, 0.25, 0.25]\n",
    "\n",
    "atom_start = [P,Sc,Ni]\n",
    "\n",
    "# Application des 3 symétries sur un atome chacune\n",
    "P_s = S1.operate(P)\n",
    "Sc_s = S2.operate(Sc)\n",
    "Ni_s = S3.operate(Ni)\n",
    "\n",
    "atom_finish = [P_s,Sc_s,Ni_s]\n"
   ]
  },
  {
   "cell_type": "markdown",
   "id": "a5cab4c1",
   "metadata": {},
   "source": [
    "### Plan miroir sur l'atome de P"
   ]
  },
  {
   "cell_type": "code",
   "execution_count": 77,
   "id": "91138bf9",
   "metadata": {},
   "outputs": [
    {
     "name": "stdout",
     "output_type": "stream",
     "text": [
      "L'atome de départ est le Phosphore avec comme coordonnées: [0.0, 0.0, 0.0]\n",
      "\n",
      "On lui applique une symétrie de plan miroir (z,y,x) :\n",
      "\n",
      "[[0. 0. 1.]\n",
      " [0. 1. 0.]\n",
      " [1. 0. 0.]] * [0.0, 0.0, 0.0] + [0. 0. 0.]\n",
      "L'atome d'arrivé a comme coordonnées : [0. 0. 0.]\n",
      "\n"
     ]
    },
    {
     "data": {
      "application/vnd.jupyter.widget-view+json": {
       "model_id": "9aa7322d432b44ccb8ded419b7fc6d7e",
       "version_major": 2,
       "version_minor": 0
      },
      "text/plain": [
       "JsmolView(layout=Layout(align_self='stretch', height='400px'))"
      ]
     },
     "metadata": {},
     "output_type": "display_data"
    }
   ],
   "source": [
    "i = 0\n",
    "\n",
    "print(\"L'atome de départ est le Phosphore avec comme coordonnées: {}\\n\".format(atom_start[i]))\n",
    "print(\"On lui applique une symétrie de plan miroir (z,y,x) :\\n\")\n",
    "print(sym[i].rotation_matrix, \"*\", atom_start[i], '+', sym[i].translation_vector)\n",
    "print(\"L'atome d'arrivé a comme coordonnées : {}\\n\".format(atom_finish[i]))\n",
    "v1 = quick_view(structure)\n",
    "display(v1)\n",
    "v1.script(\"draw symop 8 {atomno=3}\")"
   ]
  },
  {
   "cell_type": "markdown",
   "id": "4ec4eaca",
   "metadata": {},
   "source": [
    "### Roto-inversion sur l'atome de Sc"
   ]
  },
  {
   "cell_type": "code",
   "execution_count": 78,
   "id": "31b0f4d9",
   "metadata": {},
   "outputs": [
    {
     "name": "stdout",
     "output_type": "stream",
     "text": [
      "L'atome de départ est le scandium avec comme coordonnées: [0.5, 0.5, 0.5]\n",
      "\n",
      "On lui applique une roto-inversion (-x-y-z,x,y)  :\n",
      "\n",
      "[[-1. -1. -1.]\n",
      " [ 1.  0.  0.]\n",
      " [ 0.  1.  0.]] * [0.5, 0.5, 0.5] + [0. 0. 0.]\n",
      "L'atome d'arrivé a comme coordonnées : [-1.5  0.5  0.5]\n",
      "\n"
     ]
    },
    {
     "data": {
      "application/vnd.jupyter.widget-view+json": {
       "model_id": "76d5cd67fdae490f80173618fe7da431",
       "version_major": 2,
       "version_minor": 0
      },
      "text/plain": [
       "JsmolView(layout=Layout(align_self='stretch', height='400px'))"
      ]
     },
     "metadata": {},
     "output_type": "display_data"
    }
   ],
   "source": [
    "i = 1\n",
    "\n",
    "print(\"L'atome de départ est le scandium avec comme coordonnées: {}\\n\".format(atom_start[i]))\n",
    "print(\"On lui applique une roto-inversion (-x-y-z,x,y)  :\\n\")\n",
    "print(sym[i].rotation_matrix, \"*\", atom_start[i], '+', sym[i].translation_vector)\n",
    "print(\"L'atome d'arrivé a comme coordonnées : {}\\n\".format(atom_finish[i]))\n",
    "v1 = quick_view(structure)\n",
    "display(v1)\n",
    "v1.script(\"draw symop 4 {atomno=1}\")"
   ]
  },
  {
   "cell_type": "markdown",
   "id": "1cc4e0f5",
   "metadata": {},
   "source": [
    "### Axe de rotation d'ordre 2 sur l'atome de Ni"
   ]
  },
  {
   "cell_type": "code",
   "execution_count": 79,
   "id": "c152ee51",
   "metadata": {},
   "outputs": [
    {
     "name": "stdout",
     "output_type": "stream",
     "text": [
      "L'atome de départ est le Nickel avec comme coordonnées: [0.25, 0.25, 0.25]\n",
      "\n",
      "On lui applique une rotation d'axe 2 :\n",
      "\n",
      "[[ 0.  1.  0.]\n",
      " [ 1.  0.  0.]\n",
      " [-1. -1. -1.]] * [0.25, 0.25, 0.25] + [0. 0. 0.]\n",
      "L'atome d'arrivé a comme coordonnées : [ 0.25  0.25 -0.75]\n",
      "\n"
     ]
    },
    {
     "data": {
      "application/vnd.jupyter.widget-view+json": {
       "model_id": "25d5e78ecb05415ea492a65d1b2665d8",
       "version_major": 2,
       "version_minor": 0
      },
      "text/plain": [
       "JsmolView(layout=Layout(align_self='stretch', height='400px'))"
      ]
     },
     "metadata": {},
     "output_type": "display_data"
    }
   ],
   "source": [
    "i = 2\n",
    "\n",
    "print(\"L'atome de départ est le Nickel avec comme coordonnées: {}\\n\".format(atom_start[i]))\n",
    "print(\"On lui applique une rotation d'axe 2 :\\n\")\n",
    "print(sym[i].rotation_matrix, \"*\", atom_start[i], '+', sym[i].translation_vector)\n",
    "print(\"L'atome d'arrivé a comme coordonnées : {}\\n\".format(atom_finish[i]))\n",
    "v1 = quick_view(structure)\n",
    "display(v1)\n",
    "v1.script(\"draw symop 7 {atomno=2}\")"
   ]
  }
 ],
 "metadata": {
  "kernelspec": {
   "display_name": "Python 3",
   "language": "python",
   "name": "python3"
  },
  "language_info": {
   "codemirror_mode": {
    "name": "ipython",
    "version": 3
   },
   "file_extension": ".py",
   "mimetype": "text/x-python",
   "name": "python",
   "nbconvert_exporter": "python",
   "pygments_lexer": "ipython3",
   "version": "3.6.8"
  }
 },
 "nbformat": 4,
 "nbformat_minor": 5
}
