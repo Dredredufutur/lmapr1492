{
 "cells": [
  {
   "cell_type": "markdown",
   "id": "f4b5b393",
   "metadata": {},
   "source": [
    "# Tache 5"
   ]
  },
  {
   "cell_type": "markdown",
   "id": "c817e69f",
   "metadata": {},
   "source": [
    "### Chargement du materiau"
   ]
  },
  {
   "cell_type": "code",
   "execution_count": 6,
   "id": "db632fc0",
   "metadata": {},
   "outputs": [
    {
     "name": "stdout",
     "output_type": "stream",
     "text": [
      "Full Formula (Sc1 Ni1 P1)\n",
      "Reduced Formula: ScNiP\n",
      "abc   :   4.012175   4.012175   4.012175\n",
      "angles:  60.000000  60.000000  60.000000\n",
      "Sites (3)\n",
      "  #  SP       a     b     c    magmom\n",
      "---  ----  ----  ----  ----  --------\n",
      "  0  Sc    0.5   0.5   0.5          0\n",
      "  1  Ni    0.25  0.25  0.25        -0\n",
      "  2  P     0     0     0            0\n"
     ]
    }
   ],
   "source": [
    "from pymatgen.ext.matproj import MPRester\n",
    "from pymatgen.symmetry.analyzer import SpacegroupAnalyzer\n",
    "\n",
    "with MPRester(\"aCXeRIqRipXfPPtsLI7\") as m:\n",
    "\n",
    "    # Structure for material id\n",
    "    structure = m.get_structure_by_material_id(\"mp-961675\")\n",
    "\n",
    "    structure.to(filename=f'{\"mp-961675\"}.cif')\n",
    "    print(structure)"
   ]
  },
  {
   "cell_type": "markdown",
   "id": "50ab2f94",
   "metadata": {},
   "source": [
    "### Paramètres du réseau direct et réciproque"
   ]
  },
  {
   "cell_type": "code",
   "execution_count": 7,
   "id": "b29327cd",
   "metadata": {},
   "outputs": [
    {
     "name": "stdout",
     "output_type": "stream",
     "text": [
      "Paramètres du réseau direct : \n",
      "\n",
      "a : ( 4.012174788140716 , 0, 0) \n",
      "\n",
      "b : (0, 4.012174788140716 , 0) \n",
      "\n",
      "c : (0, 0,  4.012174788140716 ) \n",
      "\n",
      "α : 60.00000000000001 °\n",
      "\n",
      "β : 60.00000000000001 °\n",
      "\n",
      "γ : 60.00000000000001 °\n",
      "\n",
      "Paramètres du réseau réciproque : \n",
      "\n",
      "a* : ( 0.305257107694241 , 0, 0) \n",
      "\n",
      "b* : (0, 0.305257107694241 , 0) \n",
      "\n",
      "c* : (0, 0,  0.305257107694241 ) \n",
      "\n",
      "α* : 109.47122063449069 °\n",
      "\n",
      "β* : 109.47122063449069 °\n",
      "\n",
      "γ* : 109.47122063449069 °\n",
      "\n"
     ]
    }
   ],
   "source": [
    "vec = structure.lattice\n",
    "\n",
    "#direct\n",
    "\n",
    "print(\"Paramètres du réseau direct : \\n\")\n",
    "print(\"a : (\",vec.a,\", 0, 0) \\n\")\n",
    "print(\"b : (0,\",vec.b,\", 0) \\n\")\n",
    "print(\"c : (0, 0, \",vec.c,\") \\n\")\n",
    "print(\"α :\",vec.angles[0],\"°\\n\")\n",
    "print(\"β :\",vec.angles[1],\"°\\n\")\n",
    "print(\"γ :\",vec.angles[2],\"°\\n\")\n",
    "\n",
    "#réciproque\n",
    "\n",
    "vec = vec.reciprocal_lattice_crystallographic\n",
    "\n",
    "print(\"Paramètres du réseau réciproque : \\n\")\n",
    "print(\"a* : (\",vec.a,\", 0, 0) \\n\")\n",
    "print(\"b* : (0,\",vec.b,\", 0) \\n\")\n",
    "print(\"c* : (0, 0, \",vec.c,\") \\n\")\n",
    "print(\"α* :\",vec.angles[0],\"°\\n\")\n",
    "print(\"β* :\",vec.angles[1],\"°\\n\")\n",
    "print(\"γ* :\",vec.angles[2],\"°\\n\")"
   ]
  },
  {
   "cell_type": "markdown",
   "id": "3e4cc81a",
   "metadata": {},
   "source": [
    "### Type de maille, Système cristallin et Groupe ponctuel"
   ]
  },
  {
   "cell_type": "code",
   "execution_count": 8,
   "id": "a905a44b",
   "metadata": {},
   "outputs": [
    {
     "name": "stdout",
     "output_type": "stream",
     "text": [
      "Type de maille :  cubic  \n",
      "\n",
      "Système cristallin :  cubic  \n",
      "\n",
      "Groupe ponctuel :  -43m  \n",
      "\n"
     ]
    }
   ],
   "source": [
    "struct_anal = SpacegroupAnalyzer(structure)\n",
    "\n",
    "maille = struct_anal.get_lattice_type() \n",
    "print(\"Type de maille : \",maille,\" \\n\")\n",
    "\n",
    "systeme_crist = struct_anal.get_crystal_system()\n",
    "\n",
    "print(\"Système cristallin : \",systeme_crist,\" \\n\")\n",
    "\n",
    "groupe = struct_anal.get_point_group_symbol() \n",
    "print(\"Groupe ponctuel : \",groupe,\" \\n\")\n"
   ]
  },
  {
   "cell_type": "code",
   "execution_count": null,
   "id": "3e09f942",
   "metadata": {},
   "outputs": [],
   "source": []
  }
 ],
 "metadata": {
  "kernelspec": {
   "display_name": "Python 3",
   "language": "python",
   "name": "python3"
  },
  "language_info": {
   "codemirror_mode": {
    "name": "ipython",
    "version": 3
   },
   "file_extension": ".py",
   "mimetype": "text/x-python",
   "name": "python",
   "nbconvert_exporter": "python",
   "pygments_lexer": "ipython3",
   "version": "3.6.8"
  }
 },
 "nbformat": 4,
 "nbformat_minor": 5
}
